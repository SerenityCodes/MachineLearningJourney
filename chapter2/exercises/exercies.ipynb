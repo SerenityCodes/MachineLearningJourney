{
 "cells": [
  {
   "cell_type": "code",
   "execution_count": null,
   "outputs": [],
   "source": [
    "import joblib\n",
    "import pandas as pd\n",
    "import os\n",
    "import numpy as np\n",
    "\n",
    "import matplotlib.pyplot as plt\n",
    "%matplotlib inline"
   ],
   "metadata": {
    "collapsed": false,
    "pycharm": {
     "name": "#%%\n"
    }
   }
  },
  {
   "cell_type": "code",
   "execution_count": null,
   "outputs": [],
   "source": [
    "data = pd.read_csv(\"../datasets/housing/housing.csv\")\n",
    "data.head()"
   ],
   "metadata": {
    "collapsed": false,
    "pycharm": {
     "name": "#%%\n"
    }
   }
  },
  {
   "cell_type": "code",
   "execution_count": 25,
   "outputs": [],
   "source": [
    "from sklearn.model_selection import cross_val_score\n",
    "# Helper function used in the first notebook\n",
    "def display_scores(model, X_train, y_train):\n",
    "    scores = cross_val_score(model, X_train, y_train, scoring=\"neg_mean_squared_error\", cv=10, n_jobs=-1)\n",
    "    scores = np.sqrt(-scores)\n",
    "\n",
    "    print(\"Scores: \", scores)\n",
    "    print(\"Mean: \", scores.mean())\n",
    "    print(\"STD: \", scores.std())"
   ],
   "metadata": {
    "collapsed": false,
    "pycharm": {
     "name": "#%%\n"
    }
   }
  },
  {
   "cell_type": "markdown",
   "source": [
    "# Exercise 1\n",
    "Trying a SVR on the data to see if it does better than the Random Forest (I used a Gradient Boosting Regressor for the model)"
   ],
   "metadata": {
    "collapsed": false,
    "pycharm": {
     "name": "#%% md\n"
    }
   }
  },
  {
   "cell_type": "code",
   "execution_count": 4,
   "outputs": [
    {
     "name": "stdout",
     "output_type": "stream",
     "text": [
      "CPU times: user 9.39 s, sys: 149 ms, total: 9.54 s\n",
      "Wall time: 9min 20s\n"
     ]
    },
    {
     "data": {
      "text/plain": "GridSearchCV(cv=10, estimator=SVR(), n_jobs=-1,\n             param_grid=[{'C': array([300, 400, 500, 600, 700, 800, 900]),\n                          'kernel': ['linear', 'rbf']}],\n             scoring='neg_mean_squared_error')"
     },
     "execution_count": 4,
     "metadata": {},
     "output_type": "execute_result"
    }
   ],
   "source": [
    "%%time\n",
    "from sklearn.svm import SVR\n",
    "from sklearn.model_selection import GridSearchCV\n",
    "\n",
    "housing_prepared = np.loadtxt(\"../datasets/housing/housing_prepared.csv\", delimiter=\",\")\n",
    "housing_labels = np.loadtxt(\"../datasets/housing/housing_labels.csv\", delimiter=\",\")\n",
    "\n",
    "param_grid = [\n",
    "    {\"kernel\": [\"linear\", \"rbf\"], \"C\": np.arange(300, 1000, 100)}\n",
    "]\n",
    "grid_search = GridSearchCV(SVR(), param_grid, scoring=\"neg_mean_squared_error\", cv=10, n_jobs=-1)\n",
    "\n",
    "grid_search.fit(housing_prepared, housing_labels)"
   ],
   "metadata": {
    "collapsed": false,
    "pycharm": {
     "name": "#%%\n"
    }
   }
  },
  {
   "cell_type": "code",
   "execution_count": 5,
   "outputs": [
    {
     "data": {
      "text/plain": "{'C': 700, 'kernel': 'linear'}"
     },
     "execution_count": 5,
     "metadata": {},
     "output_type": "execute_result"
    }
   ],
   "source": [
    "grid_search.best_params_"
   ],
   "metadata": {
    "collapsed": false,
    "pycharm": {
     "name": "#%%\n"
    }
   }
  },
  {
   "cell_type": "markdown",
   "source": [
    "Grid Search likes the linear kernel, and a C around 700. I'll learn more abot what these actually mean later in the book. But I will try it with the LinearSVR class since it is faster. And wrap it into a function for easier use further in the notebook"
   ],
   "metadata": {
    "collapsed": false,
    "pycharm": {
     "name": "#%% md\n"
    }
   }
  },
  {
   "cell_type": "code",
   "execution_count": 20,
   "outputs": [],
   "source": [
    "from sklearn.svm import LinearSVR\n",
    "\n",
    "def do_grid_search_linear(search_min, search_max, search_step):\n",
    "    linear_param_grid = {\n",
    "        \"C\": np.arange(search_min, search_max, search_step)\n",
    "    }\n",
    "\n",
    "    linear_grid_search = GridSearchCV(LinearSVR(), linear_param_grid, scoring=\"neg_mean_squared_error\", cv=10, n_jobs=-1)\n",
    "    linear_grid_search.fit(housing_prepared, housing_labels)\n",
    "    return linear_grid_search"
   ],
   "metadata": {
    "collapsed": false,
    "pycharm": {
     "name": "#%%\n"
    }
   }
  },
  {
   "cell_type": "markdown",
   "source": [
    "Starting with the initial values I tested earlier"
   ],
   "metadata": {
    "collapsed": false,
    "pycharm": {
     "name": "#%% md\n"
    }
   }
  },
  {
   "cell_type": "code",
   "execution_count": 21,
   "outputs": [
    {
     "data": {
      "text/plain": "{'C': 900}"
     },
     "execution_count": 21,
     "metadata": {},
     "output_type": "execute_result"
    }
   ],
   "source": [
    "search = do_grid_search_linear(300, 1000, 100)\n",
    "search.best_params_"
   ],
   "metadata": {
    "collapsed": false,
    "pycharm": {
     "name": "#%%\n"
    }
   }
  },
  {
   "cell_type": "markdown",
   "source": [
    "It wants more regularization. Interesting. I'll try an interval of 1000 up to 10000 and see what happens."
   ],
   "metadata": {
    "collapsed": false,
    "pycharm": {
     "name": "#%% md\n"
    }
   }
  },
  {
   "cell_type": "code",
   "execution_count": 22,
   "outputs": [
    {
     "data": {
      "text/plain": "{'C': 10000}"
     },
     "execution_count": 22,
     "metadata": {},
     "output_type": "execute_result"
    }
   ],
   "source": [
    "search = do_grid_search_linear(1000, 11000, 1000)\n",
    "search.best_params_"
   ],
   "metadata": {
    "collapsed": false,
    "pycharm": {
     "name": "#%%\n"
    }
   }
  },
  {
   "cell_type": "code",
   "execution_count": 23,
   "outputs": [
    {
     "name": "stdout",
     "output_type": "stream",
     "text": [
      "CPU times: user 1.17 s, sys: 54.3 ms, total: 1.22 s\n",
      "Wall time: 2min 21s\n"
     ]
    },
    {
     "data": {
      "text/plain": "{'C': 27000}"
     },
     "execution_count": 23,
     "metadata": {},
     "output_type": "execute_result"
    }
   ],
   "source": [
    "%%time\n",
    "search = do_grid_search_linear(5000, 50000, 1000)\n",
    "search.best_params_"
   ],
   "metadata": {
    "collapsed": false,
    "pycharm": {
     "name": "#%%\n"
    }
   }
  },
  {
   "cell_type": "code",
   "execution_count": 24,
   "outputs": [
    {
     "data": {
      "text/plain": "{'C': 26600}"
     },
     "execution_count": 24,
     "metadata": {},
     "output_type": "execute_result"
    }
   ],
   "source": [
    "search = do_grid_search_linear(26000, 28000, 100)\n",
    "search.best_params_"
   ],
   "metadata": {
    "collapsed": false,
    "pycharm": {
     "name": "#%%\n"
    }
   }
  },
  {
   "cell_type": "markdown",
   "source": [
    "I could go exploring further, but that's outside the scope of the exercise. This value will be good enough, so let's see how well it does compared against the data."
   ],
   "metadata": {
    "collapsed": false,
    "pycharm": {
     "name": "#%% md\n"
    }
   }
  },
  {
   "cell_type": "code",
   "execution_count": 26,
   "outputs": [
    {
     "name": "stdout",
     "output_type": "stream",
     "text": [
      "Scores:  [72577.09811839 66094.399554   67178.39110867 70234.21497558\n",
      " 67265.14917758 73946.68950485 77233.41884311 70028.74098011\n",
      " 67481.15413525 70944.50959103]\n",
      "Mean:  70298.37659885749\n",
      "STD:  3341.2096780778534\n"
     ]
    }
   ],
   "source": [
    "display_scores(search.best_estimator_, X_train=housing_prepared, y_train=housing_labels)"
   ],
   "metadata": {
    "collapsed": false,
    "pycharm": {
     "name": "#%%\n"
    }
   }
  },
  {
   "cell_type": "markdown",
   "source": [
    "This value is really close to what we got with the Random Forest and only a couple thousands off of the Gradient Booster. That's pretty good!"
   ],
   "metadata": {
    "collapsed": false,
    "pycharm": {
     "name": "#%% md\n"
    }
   }
  },
  {
   "cell_type": "markdown",
   "source": [
    "# Exercise 2\n",
    "Replacing GridSearchCV with RandomizedSearchCV"
   ],
   "metadata": {
    "collapsed": false,
    "pycharm": {
     "name": "#%% md\n"
    }
   }
  },
  {
   "cell_type": "code",
   "execution_count": 29,
   "outputs": [],
   "source": [
    "from sklearn.model_selection import RandomizedSearchCV\n",
    "\n",
    "def linear_svm_random_search(search_min, search_max, search_step):\n",
    "    linear_param_grid = {\n",
    "        \"C\": np.arange(search_min, search_max, search_step)\n",
    "    }\n",
    "\n",
    "    random_search = RandomizedSearchCV(LinearSVR(), linear_param_grid, scoring=\"neg_mean_squared_error\", n_jobs=-1, cv=10, n_iter=100)\n",
    "    random_search.fit(housing_prepared, housing_labels)\n",
    "    return random_search"
   ],
   "metadata": {
    "collapsed": false,
    "pycharm": {
     "name": "#%%\n"
    }
   }
  },
  {
   "cell_type": "code",
   "execution_count": 30,
   "outputs": [
    {
     "name": "stderr",
     "output_type": "stream",
     "text": [
      "/home/uber-driver/.cache/pypoetry/virtualenvs/algotrading-QW8QhsQC-py3.8/lib/python3.8/site-packages/sklearn/svm/_base.py:1206: ConvergenceWarning: Liblinear failed to converge, increase the number of iterations.\n",
      "  warnings.warn(\n",
      "/home/uber-driver/.cache/pypoetry/virtualenvs/algotrading-QW8QhsQC-py3.8/lib/python3.8/site-packages/sklearn/svm/_base.py:1206: ConvergenceWarning: Liblinear failed to converge, increase the number of iterations.\n",
      "  warnings.warn(\n",
      "/home/uber-driver/.cache/pypoetry/virtualenvs/algotrading-QW8QhsQC-py3.8/lib/python3.8/site-packages/sklearn/svm/_base.py:1206: ConvergenceWarning: Liblinear failed to converge, increase the number of iterations.\n",
      "  warnings.warn(\n",
      "/home/uber-driver/.cache/pypoetry/virtualenvs/algotrading-QW8QhsQC-py3.8/lib/python3.8/site-packages/sklearn/svm/_base.py:1206: ConvergenceWarning: Liblinear failed to converge, increase the number of iterations.\n",
      "  warnings.warn(\n",
      "/home/uber-driver/.cache/pypoetry/virtualenvs/algotrading-QW8QhsQC-py3.8/lib/python3.8/site-packages/sklearn/svm/_base.py:1206: ConvergenceWarning: Liblinear failed to converge, increase the number of iterations.\n",
      "  warnings.warn(\n",
      "/home/uber-driver/.cache/pypoetry/virtualenvs/algotrading-QW8QhsQC-py3.8/lib/python3.8/site-packages/sklearn/svm/_base.py:1206: ConvergenceWarning: Liblinear failed to converge, increase the number of iterations.\n",
      "  warnings.warn(\n",
      "/home/uber-driver/.cache/pypoetry/virtualenvs/algotrading-QW8QhsQC-py3.8/lib/python3.8/site-packages/sklearn/svm/_base.py:1206: ConvergenceWarning: Liblinear failed to converge, increase the number of iterations.\n",
      "  warnings.warn(\n",
      "/home/uber-driver/.cache/pypoetry/virtualenvs/algotrading-QW8QhsQC-py3.8/lib/python3.8/site-packages/sklearn/svm/_base.py:1206: ConvergenceWarning: Liblinear failed to converge, increase the number of iterations.\n",
      "  warnings.warn(\n",
      "/home/uber-driver/.cache/pypoetry/virtualenvs/algotrading-QW8QhsQC-py3.8/lib/python3.8/site-packages/sklearn/svm/_base.py:1206: ConvergenceWarning: Liblinear failed to converge, increase the number of iterations.\n",
      "  warnings.warn(\n",
      "/home/uber-driver/.cache/pypoetry/virtualenvs/algotrading-QW8QhsQC-py3.8/lib/python3.8/site-packages/sklearn/svm/_base.py:1206: ConvergenceWarning: Liblinear failed to converge, increase the number of iterations.\n",
      "  warnings.warn(\n",
      "/home/uber-driver/.cache/pypoetry/virtualenvs/algotrading-QW8QhsQC-py3.8/lib/python3.8/site-packages/sklearn/svm/_base.py:1206: ConvergenceWarning: Liblinear failed to converge, increase the number of iterations.\n",
      "  warnings.warn(\n",
      "/home/uber-driver/.cache/pypoetry/virtualenvs/algotrading-QW8QhsQC-py3.8/lib/python3.8/site-packages/sklearn/svm/_base.py:1206: ConvergenceWarning: Liblinear failed to converge, increase the number of iterations.\n",
      "  warnings.warn(\n",
      "/home/uber-driver/.cache/pypoetry/virtualenvs/algotrading-QW8QhsQC-py3.8/lib/python3.8/site-packages/sklearn/svm/_base.py:1206: ConvergenceWarning: Liblinear failed to converge, increase the number of iterations.\n",
      "  warnings.warn(\n",
      "/home/uber-driver/.cache/pypoetry/virtualenvs/algotrading-QW8QhsQC-py3.8/lib/python3.8/site-packages/sklearn/svm/_base.py:1206: ConvergenceWarning: Liblinear failed to converge, increase the number of iterations.\n",
      "  warnings.warn(\n",
      "/home/uber-driver/.cache/pypoetry/virtualenvs/algotrading-QW8QhsQC-py3.8/lib/python3.8/site-packages/sklearn/svm/_base.py:1206: ConvergenceWarning: Liblinear failed to converge, increase the number of iterations.\n",
      "  warnings.warn(\n",
      "/home/uber-driver/.cache/pypoetry/virtualenvs/algotrading-QW8QhsQC-py3.8/lib/python3.8/site-packages/sklearn/svm/_base.py:1206: ConvergenceWarning: Liblinear failed to converge, increase the number of iterations.\n",
      "  warnings.warn(\n",
      "/home/uber-driver/.cache/pypoetry/virtualenvs/algotrading-QW8QhsQC-py3.8/lib/python3.8/site-packages/sklearn/svm/_base.py:1206: ConvergenceWarning: Liblinear failed to converge, increase the number of iterations.\n",
      "  warnings.warn(\n",
      "/home/uber-driver/.cache/pypoetry/virtualenvs/algotrading-QW8QhsQC-py3.8/lib/python3.8/site-packages/sklearn/svm/_base.py:1206: ConvergenceWarning: Liblinear failed to converge, increase the number of iterations.\n",
      "  warnings.warn(\n",
      "/home/uber-driver/.cache/pypoetry/virtualenvs/algotrading-QW8QhsQC-py3.8/lib/python3.8/site-packages/sklearn/svm/_base.py:1206: ConvergenceWarning: Liblinear failed to converge, increase the number of iterations.\n",
      "  warnings.warn(\n",
      "/home/uber-driver/.cache/pypoetry/virtualenvs/algotrading-QW8QhsQC-py3.8/lib/python3.8/site-packages/sklearn/svm/_base.py:1206: ConvergenceWarning: Liblinear failed to converge, increase the number of iterations.\n",
      "  warnings.warn(\n",
      "/home/uber-driver/.cache/pypoetry/virtualenvs/algotrading-QW8QhsQC-py3.8/lib/python3.8/site-packages/sklearn/svm/_base.py:1206: ConvergenceWarning: Liblinear failed to converge, increase the number of iterations.\n",
      "  warnings.warn(\n",
      "/home/uber-driver/.cache/pypoetry/virtualenvs/algotrading-QW8QhsQC-py3.8/lib/python3.8/site-packages/sklearn/svm/_base.py:1206: ConvergenceWarning: Liblinear failed to converge, increase the number of iterations.\n",
      "  warnings.warn(\n",
      "/home/uber-driver/.cache/pypoetry/virtualenvs/algotrading-QW8QhsQC-py3.8/lib/python3.8/site-packages/sklearn/svm/_base.py:1206: ConvergenceWarning: Liblinear failed to converge, increase the number of iterations.\n",
      "  warnings.warn(\n",
      "/home/uber-driver/.cache/pypoetry/virtualenvs/algotrading-QW8QhsQC-py3.8/lib/python3.8/site-packages/sklearn/svm/_base.py:1206: ConvergenceWarning: Liblinear failed to converge, increase the number of iterations.\n",
      "  warnings.warn(\n",
      "/home/uber-driver/.cache/pypoetry/virtualenvs/algotrading-QW8QhsQC-py3.8/lib/python3.8/site-packages/sklearn/svm/_base.py:1206: ConvergenceWarning: Liblinear failed to converge, increase the number of iterations.\n",
      "  warnings.warn(\n",
      "/home/uber-driver/.cache/pypoetry/virtualenvs/algotrading-QW8QhsQC-py3.8/lib/python3.8/site-packages/sklearn/svm/_base.py:1206: ConvergenceWarning: Liblinear failed to converge, increase the number of iterations.\n",
      "  warnings.warn(\n",
      "/home/uber-driver/.cache/pypoetry/virtualenvs/algotrading-QW8QhsQC-py3.8/lib/python3.8/site-packages/sklearn/svm/_base.py:1206: ConvergenceWarning: Liblinear failed to converge, increase the number of iterations.\n",
      "  warnings.warn(\n",
      "/home/uber-driver/.cache/pypoetry/virtualenvs/algotrading-QW8QhsQC-py3.8/lib/python3.8/site-packages/sklearn/svm/_base.py:1206: ConvergenceWarning: Liblinear failed to converge, increase the number of iterations.\n",
      "  warnings.warn(\n",
      "/home/uber-driver/.cache/pypoetry/virtualenvs/algotrading-QW8QhsQC-py3.8/lib/python3.8/site-packages/sklearn/svm/_base.py:1206: ConvergenceWarning: Liblinear failed to converge, increase the number of iterations.\n",
      "  warnings.warn(\n",
      "/home/uber-driver/.cache/pypoetry/virtualenvs/algotrading-QW8QhsQC-py3.8/lib/python3.8/site-packages/sklearn/svm/_base.py:1206: ConvergenceWarning: Liblinear failed to converge, increase the number of iterations.\n",
      "  warnings.warn(\n",
      "/home/uber-driver/.cache/pypoetry/virtualenvs/algotrading-QW8QhsQC-py3.8/lib/python3.8/site-packages/sklearn/svm/_base.py:1206: ConvergenceWarning: Liblinear failed to converge, increase the number of iterations.\n",
      "  warnings.warn(\n",
      "/home/uber-driver/.cache/pypoetry/virtualenvs/algotrading-QW8QhsQC-py3.8/lib/python3.8/site-packages/sklearn/svm/_base.py:1206: ConvergenceWarning: Liblinear failed to converge, increase the number of iterations.\n",
      "  warnings.warn(\n",
      "/home/uber-driver/.cache/pypoetry/virtualenvs/algotrading-QW8QhsQC-py3.8/lib/python3.8/site-packages/sklearn/svm/_base.py:1206: ConvergenceWarning: Liblinear failed to converge, increase the number of iterations.\n",
      "  warnings.warn(\n",
      "/home/uber-driver/.cache/pypoetry/virtualenvs/algotrading-QW8QhsQC-py3.8/lib/python3.8/site-packages/sklearn/svm/_base.py:1206: ConvergenceWarning: Liblinear failed to converge, increase the number of iterations.\n",
      "  warnings.warn(\n",
      "/home/uber-driver/.cache/pypoetry/virtualenvs/algotrading-QW8QhsQC-py3.8/lib/python3.8/site-packages/sklearn/svm/_base.py:1206: ConvergenceWarning: Liblinear failed to converge, increase the number of iterations.\n",
      "  warnings.warn(\n",
      "/home/uber-driver/.cache/pypoetry/virtualenvs/algotrading-QW8QhsQC-py3.8/lib/python3.8/site-packages/sklearn/svm/_base.py:1206: ConvergenceWarning: Liblinear failed to converge, increase the number of iterations.\n",
      "  warnings.warn(\n",
      "/home/uber-driver/.cache/pypoetry/virtualenvs/algotrading-QW8QhsQC-py3.8/lib/python3.8/site-packages/sklearn/svm/_base.py:1206: ConvergenceWarning: Liblinear failed to converge, increase the number of iterations.\n",
      "  warnings.warn(\n",
      "/home/uber-driver/.cache/pypoetry/virtualenvs/algotrading-QW8QhsQC-py3.8/lib/python3.8/site-packages/sklearn/svm/_base.py:1206: ConvergenceWarning: Liblinear failed to converge, increase the number of iterations.\n",
      "  warnings.warn(\n",
      "/home/uber-driver/.cache/pypoetry/virtualenvs/algotrading-QW8QhsQC-py3.8/lib/python3.8/site-packages/sklearn/svm/_base.py:1206: ConvergenceWarning: Liblinear failed to converge, increase the number of iterations.\n",
      "  warnings.warn(\n",
      "/home/uber-driver/.cache/pypoetry/virtualenvs/algotrading-QW8QhsQC-py3.8/lib/python3.8/site-packages/sklearn/svm/_base.py:1206: ConvergenceWarning: Liblinear failed to converge, increase the number of iterations.\n",
      "  warnings.warn(\n",
      "/home/uber-driver/.cache/pypoetry/virtualenvs/algotrading-QW8QhsQC-py3.8/lib/python3.8/site-packages/sklearn/svm/_base.py:1206: ConvergenceWarning: Liblinear failed to converge, increase the number of iterations.\n",
      "  warnings.warn(\n",
      "/home/uber-driver/.cache/pypoetry/virtualenvs/algotrading-QW8QhsQC-py3.8/lib/python3.8/site-packages/sklearn/svm/_base.py:1206: ConvergenceWarning: Liblinear failed to converge, increase the number of iterations.\n",
      "  warnings.warn(\n",
      "/home/uber-driver/.cache/pypoetry/virtualenvs/algotrading-QW8QhsQC-py3.8/lib/python3.8/site-packages/sklearn/svm/_base.py:1206: ConvergenceWarning: Liblinear failed to converge, increase the number of iterations.\n",
      "  warnings.warn(\n",
      "/home/uber-driver/.cache/pypoetry/virtualenvs/algotrading-QW8QhsQC-py3.8/lib/python3.8/site-packages/sklearn/svm/_base.py:1206: ConvergenceWarning: Liblinear failed to converge, increase the number of iterations.\n",
      "  warnings.warn(\n",
      "/home/uber-driver/.cache/pypoetry/virtualenvs/algotrading-QW8QhsQC-py3.8/lib/python3.8/site-packages/sklearn/svm/_base.py:1206: ConvergenceWarning: Liblinear failed to converge, increase the number of iterations.\n",
      "  warnings.warn(\n",
      "/home/uber-driver/.cache/pypoetry/virtualenvs/algotrading-QW8QhsQC-py3.8/lib/python3.8/site-packages/sklearn/svm/_base.py:1206: ConvergenceWarning: Liblinear failed to converge, increase the number of iterations.\n",
      "  warnings.warn(\n",
      "/home/uber-driver/.cache/pypoetry/virtualenvs/algotrading-QW8QhsQC-py3.8/lib/python3.8/site-packages/sklearn/svm/_base.py:1206: ConvergenceWarning: Liblinear failed to converge, increase the number of iterations.\n",
      "  warnings.warn(\n",
      "/home/uber-driver/.cache/pypoetry/virtualenvs/algotrading-QW8QhsQC-py3.8/lib/python3.8/site-packages/sklearn/svm/_base.py:1206: ConvergenceWarning: Liblinear failed to converge, increase the number of iterations.\n",
      "  warnings.warn(\n",
      "/home/uber-driver/.cache/pypoetry/virtualenvs/algotrading-QW8QhsQC-py3.8/lib/python3.8/site-packages/sklearn/svm/_base.py:1206: ConvergenceWarning: Liblinear failed to converge, increase the number of iterations.\n",
      "  warnings.warn(\n",
      "/home/uber-driver/.cache/pypoetry/virtualenvs/algotrading-QW8QhsQC-py3.8/lib/python3.8/site-packages/sklearn/svm/_base.py:1206: ConvergenceWarning: Liblinear failed to converge, increase the number of iterations.\n",
      "  warnings.warn(\n",
      "/home/uber-driver/.cache/pypoetry/virtualenvs/algotrading-QW8QhsQC-py3.8/lib/python3.8/site-packages/sklearn/svm/_base.py:1206: ConvergenceWarning: Liblinear failed to converge, increase the number of iterations.\n",
      "  warnings.warn(\n",
      "/home/uber-driver/.cache/pypoetry/virtualenvs/algotrading-QW8QhsQC-py3.8/lib/python3.8/site-packages/sklearn/svm/_base.py:1206: ConvergenceWarning: Liblinear failed to converge, increase the number of iterations.\n",
      "  warnings.warn(\n",
      "/home/uber-driver/.cache/pypoetry/virtualenvs/algotrading-QW8QhsQC-py3.8/lib/python3.8/site-packages/sklearn/svm/_base.py:1206: ConvergenceWarning: Liblinear failed to converge, increase the number of iterations.\n",
      "  warnings.warn(\n",
      "/home/uber-driver/.cache/pypoetry/virtualenvs/algotrading-QW8QhsQC-py3.8/lib/python3.8/site-packages/sklearn/svm/_base.py:1206: ConvergenceWarning: Liblinear failed to converge, increase the number of iterations.\n",
      "  warnings.warn(\n",
      "/home/uber-driver/.cache/pypoetry/virtualenvs/algotrading-QW8QhsQC-py3.8/lib/python3.8/site-packages/sklearn/svm/_base.py:1206: ConvergenceWarning: Liblinear failed to converge, increase the number of iterations.\n",
      "  warnings.warn(\n",
      "/home/uber-driver/.cache/pypoetry/virtualenvs/algotrading-QW8QhsQC-py3.8/lib/python3.8/site-packages/sklearn/svm/_base.py:1206: ConvergenceWarning: Liblinear failed to converge, increase the number of iterations.\n",
      "  warnings.warn(\n",
      "/home/uber-driver/.cache/pypoetry/virtualenvs/algotrading-QW8QhsQC-py3.8/lib/python3.8/site-packages/sklearn/svm/_base.py:1206: ConvergenceWarning: Liblinear failed to converge, increase the number of iterations.\n",
      "  warnings.warn(\n",
      "/home/uber-driver/.cache/pypoetry/virtualenvs/algotrading-QW8QhsQC-py3.8/lib/python3.8/site-packages/sklearn/svm/_base.py:1206: ConvergenceWarning: Liblinear failed to converge, increase the number of iterations.\n",
      "  warnings.warn(\n",
      "/home/uber-driver/.cache/pypoetry/virtualenvs/algotrading-QW8QhsQC-py3.8/lib/python3.8/site-packages/sklearn/svm/_base.py:1206: ConvergenceWarning: Liblinear failed to converge, increase the number of iterations.\n",
      "  warnings.warn(\n",
      "/home/uber-driver/.cache/pypoetry/virtualenvs/algotrading-QW8QhsQC-py3.8/lib/python3.8/site-packages/sklearn/svm/_base.py:1206: ConvergenceWarning: Liblinear failed to converge, increase the number of iterations.\n",
      "  warnings.warn(\n",
      "/home/uber-driver/.cache/pypoetry/virtualenvs/algotrading-QW8QhsQC-py3.8/lib/python3.8/site-packages/sklearn/svm/_base.py:1206: ConvergenceWarning: Liblinear failed to converge, increase the number of iterations.\n",
      "  warnings.warn(\n",
      "/home/uber-driver/.cache/pypoetry/virtualenvs/algotrading-QW8QhsQC-py3.8/lib/python3.8/site-packages/sklearn/svm/_base.py:1206: ConvergenceWarning: Liblinear failed to converge, increase the number of iterations.\n",
      "  warnings.warn(\n",
      "/home/uber-driver/.cache/pypoetry/virtualenvs/algotrading-QW8QhsQC-py3.8/lib/python3.8/site-packages/sklearn/svm/_base.py:1206: ConvergenceWarning: Liblinear failed to converge, increase the number of iterations.\n",
      "  warnings.warn(\n",
      "/home/uber-driver/.cache/pypoetry/virtualenvs/algotrading-QW8QhsQC-py3.8/lib/python3.8/site-packages/sklearn/svm/_base.py:1206: ConvergenceWarning: Liblinear failed to converge, increase the number of iterations.\n",
      "  warnings.warn(\n",
      "/home/uber-driver/.cache/pypoetry/virtualenvs/algotrading-QW8QhsQC-py3.8/lib/python3.8/site-packages/sklearn/svm/_base.py:1206: ConvergenceWarning: Liblinear failed to converge, increase the number of iterations.\n",
      "  warnings.warn(\n",
      "/home/uber-driver/.cache/pypoetry/virtualenvs/algotrading-QW8QhsQC-py3.8/lib/python3.8/site-packages/sklearn/svm/_base.py:1206: ConvergenceWarning: Liblinear failed to converge, increase the number of iterations.\n",
      "  warnings.warn(\n",
      "/home/uber-driver/.cache/pypoetry/virtualenvs/algotrading-QW8QhsQC-py3.8/lib/python3.8/site-packages/sklearn/svm/_base.py:1206: ConvergenceWarning: Liblinear failed to converge, increase the number of iterations.\n",
      "  warnings.warn(\n",
      "/home/uber-driver/.cache/pypoetry/virtualenvs/algotrading-QW8QhsQC-py3.8/lib/python3.8/site-packages/sklearn/svm/_base.py:1206: ConvergenceWarning: Liblinear failed to converge, increase the number of iterations.\n",
      "  warnings.warn(\n",
      "/home/uber-driver/.cache/pypoetry/virtualenvs/algotrading-QW8QhsQC-py3.8/lib/python3.8/site-packages/sklearn/svm/_base.py:1206: ConvergenceWarning: Liblinear failed to converge, increase the number of iterations.\n",
      "  warnings.warn(\n",
      "/home/uber-driver/.cache/pypoetry/virtualenvs/algotrading-QW8QhsQC-py3.8/lib/python3.8/site-packages/sklearn/svm/_base.py:1206: ConvergenceWarning: Liblinear failed to converge, increase the number of iterations.\n",
      "  warnings.warn(\n",
      "/home/uber-driver/.cache/pypoetry/virtualenvs/algotrading-QW8QhsQC-py3.8/lib/python3.8/site-packages/sklearn/svm/_base.py:1206: ConvergenceWarning: Liblinear failed to converge, increase the number of iterations.\n",
      "  warnings.warn(\n",
      "/home/uber-driver/.cache/pypoetry/virtualenvs/algotrading-QW8QhsQC-py3.8/lib/python3.8/site-packages/sklearn/svm/_base.py:1206: ConvergenceWarning: Liblinear failed to converge, increase the number of iterations.\n",
      "  warnings.warn(\n",
      "/home/uber-driver/.cache/pypoetry/virtualenvs/algotrading-QW8QhsQC-py3.8/lib/python3.8/site-packages/sklearn/svm/_base.py:1206: ConvergenceWarning: Liblinear failed to converge, increase the number of iterations.\n",
      "  warnings.warn(\n",
      "/home/uber-driver/.cache/pypoetry/virtualenvs/algotrading-QW8QhsQC-py3.8/lib/python3.8/site-packages/sklearn/svm/_base.py:1206: ConvergenceWarning: Liblinear failed to converge, increase the number of iterations.\n",
      "  warnings.warn(\n",
      "/home/uber-driver/.cache/pypoetry/virtualenvs/algotrading-QW8QhsQC-py3.8/lib/python3.8/site-packages/sklearn/svm/_base.py:1206: ConvergenceWarning: Liblinear failed to converge, increase the number of iterations.\n",
      "  warnings.warn(\n",
      "/home/uber-driver/.cache/pypoetry/virtualenvs/algotrading-QW8QhsQC-py3.8/lib/python3.8/site-packages/sklearn/svm/_base.py:1206: ConvergenceWarning: Liblinear failed to converge, increase the number of iterations.\n",
      "  warnings.warn(\n",
      "/home/uber-driver/.cache/pypoetry/virtualenvs/algotrading-QW8QhsQC-py3.8/lib/python3.8/site-packages/sklearn/svm/_base.py:1206: ConvergenceWarning: Liblinear failed to converge, increase the number of iterations.\n",
      "  warnings.warn(\n",
      "/home/uber-driver/.cache/pypoetry/virtualenvs/algotrading-QW8QhsQC-py3.8/lib/python3.8/site-packages/sklearn/svm/_base.py:1206: ConvergenceWarning: Liblinear failed to converge, increase the number of iterations.\n",
      "  warnings.warn(\n",
      "/home/uber-driver/.cache/pypoetry/virtualenvs/algotrading-QW8QhsQC-py3.8/lib/python3.8/site-packages/sklearn/svm/_base.py:1206: ConvergenceWarning: Liblinear failed to converge, increase the number of iterations.\n",
      "  warnings.warn(\n",
      "/home/uber-driver/.cache/pypoetry/virtualenvs/algotrading-QW8QhsQC-py3.8/lib/python3.8/site-packages/sklearn/svm/_base.py:1206: ConvergenceWarning: Liblinear failed to converge, increase the number of iterations.\n",
      "  warnings.warn(\n",
      "/home/uber-driver/.cache/pypoetry/virtualenvs/algotrading-QW8QhsQC-py3.8/lib/python3.8/site-packages/sklearn/svm/_base.py:1206: ConvergenceWarning: Liblinear failed to converge, increase the number of iterations.\n",
      "  warnings.warn(\n",
      "/home/uber-driver/.cache/pypoetry/virtualenvs/algotrading-QW8QhsQC-py3.8/lib/python3.8/site-packages/sklearn/svm/_base.py:1206: ConvergenceWarning: Liblinear failed to converge, increase the number of iterations.\n",
      "  warnings.warn(\n",
      "/home/uber-driver/.cache/pypoetry/virtualenvs/algotrading-QW8QhsQC-py3.8/lib/python3.8/site-packages/sklearn/svm/_base.py:1206: ConvergenceWarning: Liblinear failed to converge, increase the number of iterations.\n",
      "  warnings.warn(\n",
      "/home/uber-driver/.cache/pypoetry/virtualenvs/algotrading-QW8QhsQC-py3.8/lib/python3.8/site-packages/sklearn/svm/_base.py:1206: ConvergenceWarning: Liblinear failed to converge, increase the number of iterations.\n",
      "  warnings.warn(\n",
      "/home/uber-driver/.cache/pypoetry/virtualenvs/algotrading-QW8QhsQC-py3.8/lib/python3.8/site-packages/sklearn/svm/_base.py:1206: ConvergenceWarning: Liblinear failed to converge, increase the number of iterations.\n",
      "  warnings.warn(\n",
      "/home/uber-driver/.cache/pypoetry/virtualenvs/algotrading-QW8QhsQC-py3.8/lib/python3.8/site-packages/sklearn/svm/_base.py:1206: ConvergenceWarning: Liblinear failed to converge, increase the number of iterations.\n",
      "  warnings.warn(\n",
      "/home/uber-driver/.cache/pypoetry/virtualenvs/algotrading-QW8QhsQC-py3.8/lib/python3.8/site-packages/sklearn/svm/_base.py:1206: ConvergenceWarning: Liblinear failed to converge, increase the number of iterations.\n",
      "  warnings.warn(\n",
      "/home/uber-driver/.cache/pypoetry/virtualenvs/algotrading-QW8QhsQC-py3.8/lib/python3.8/site-packages/sklearn/svm/_base.py:1206: ConvergenceWarning: Liblinear failed to converge, increase the number of iterations.\n",
      "  warnings.warn(\n",
      "/home/uber-driver/.cache/pypoetry/virtualenvs/algotrading-QW8QhsQC-py3.8/lib/python3.8/site-packages/sklearn/svm/_base.py:1206: ConvergenceWarning: Liblinear failed to converge, increase the number of iterations.\n",
      "  warnings.warn(\n",
      "/home/uber-driver/.cache/pypoetry/virtualenvs/algotrading-QW8QhsQC-py3.8/lib/python3.8/site-packages/sklearn/svm/_base.py:1206: ConvergenceWarning: Liblinear failed to converge, increase the number of iterations.\n",
      "  warnings.warn(\n",
      "/home/uber-driver/.cache/pypoetry/virtualenvs/algotrading-QW8QhsQC-py3.8/lib/python3.8/site-packages/sklearn/svm/_base.py:1206: ConvergenceWarning: Liblinear failed to converge, increase the number of iterations.\n",
      "  warnings.warn(\n",
      "/home/uber-driver/.cache/pypoetry/virtualenvs/algotrading-QW8QhsQC-py3.8/lib/python3.8/site-packages/sklearn/svm/_base.py:1206: ConvergenceWarning: Liblinear failed to converge, increase the number of iterations.\n",
      "  warnings.warn(\n",
      "/home/uber-driver/.cache/pypoetry/virtualenvs/algotrading-QW8QhsQC-py3.8/lib/python3.8/site-packages/sklearn/svm/_base.py:1206: ConvergenceWarning: Liblinear failed to converge, increase the number of iterations.\n",
      "  warnings.warn(\n",
      "/home/uber-driver/.cache/pypoetry/virtualenvs/algotrading-QW8QhsQC-py3.8/lib/python3.8/site-packages/sklearn/svm/_base.py:1206: ConvergenceWarning: Liblinear failed to converge, increase the number of iterations.\n",
      "  warnings.warn(\n",
      "/home/uber-driver/.cache/pypoetry/virtualenvs/algotrading-QW8QhsQC-py3.8/lib/python3.8/site-packages/sklearn/svm/_base.py:1206: ConvergenceWarning: Liblinear failed to converge, increase the number of iterations.\n",
      "  warnings.warn(\n",
      "/home/uber-driver/.cache/pypoetry/virtualenvs/algotrading-QW8QhsQC-py3.8/lib/python3.8/site-packages/sklearn/svm/_base.py:1206: ConvergenceWarning: Liblinear failed to converge, increase the number of iterations.\n",
      "  warnings.warn(\n",
      "/home/uber-driver/.cache/pypoetry/virtualenvs/algotrading-QW8QhsQC-py3.8/lib/python3.8/site-packages/sklearn/svm/_base.py:1206: ConvergenceWarning: Liblinear failed to converge, increase the number of iterations.\n",
      "  warnings.warn(\n",
      "/home/uber-driver/.cache/pypoetry/virtualenvs/algotrading-QW8QhsQC-py3.8/lib/python3.8/site-packages/sklearn/svm/_base.py:1206: ConvergenceWarning: Liblinear failed to converge, increase the number of iterations.\n",
      "  warnings.warn(\n",
      "/home/uber-driver/.cache/pypoetry/virtualenvs/algotrading-QW8QhsQC-py3.8/lib/python3.8/site-packages/sklearn/svm/_base.py:1206: ConvergenceWarning: Liblinear failed to converge, increase the number of iterations.\n",
      "  warnings.warn(\n",
      "/home/uber-driver/.cache/pypoetry/virtualenvs/algotrading-QW8QhsQC-py3.8/lib/python3.8/site-packages/sklearn/svm/_base.py:1206: ConvergenceWarning: Liblinear failed to converge, increase the number of iterations.\n",
      "  warnings.warn(\n",
      "/home/uber-driver/.cache/pypoetry/virtualenvs/algotrading-QW8QhsQC-py3.8/lib/python3.8/site-packages/sklearn/svm/_base.py:1206: ConvergenceWarning: Liblinear failed to converge, increase the number of iterations.\n",
      "  warnings.warn(\n",
      "/home/uber-driver/.cache/pypoetry/virtualenvs/algotrading-QW8QhsQC-py3.8/lib/python3.8/site-packages/sklearn/svm/_base.py:1206: ConvergenceWarning: Liblinear failed to converge, increase the number of iterations.\n",
      "  warnings.warn(\n",
      "/home/uber-driver/.cache/pypoetry/virtualenvs/algotrading-QW8QhsQC-py3.8/lib/python3.8/site-packages/sklearn/svm/_base.py:1206: ConvergenceWarning: Liblinear failed to converge, increase the number of iterations.\n",
      "  warnings.warn(\n",
      "/home/uber-driver/.cache/pypoetry/virtualenvs/algotrading-QW8QhsQC-py3.8/lib/python3.8/site-packages/sklearn/svm/_base.py:1206: ConvergenceWarning: Liblinear failed to converge, increase the number of iterations.\n",
      "  warnings.warn(\n",
      "/home/uber-driver/.cache/pypoetry/virtualenvs/algotrading-QW8QhsQC-py3.8/lib/python3.8/site-packages/sklearn/svm/_base.py:1206: ConvergenceWarning: Liblinear failed to converge, increase the number of iterations.\n",
      "  warnings.warn(\n",
      "/home/uber-driver/.cache/pypoetry/virtualenvs/algotrading-QW8QhsQC-py3.8/lib/python3.8/site-packages/sklearn/svm/_base.py:1206: ConvergenceWarning: Liblinear failed to converge, increase the number of iterations.\n",
      "  warnings.warn(\n",
      "/home/uber-driver/.cache/pypoetry/virtualenvs/algotrading-QW8QhsQC-py3.8/lib/python3.8/site-packages/sklearn/svm/_base.py:1206: ConvergenceWarning: Liblinear failed to converge, increase the number of iterations.\n",
      "  warnings.warn(\n",
      "/home/uber-driver/.cache/pypoetry/virtualenvs/algotrading-QW8QhsQC-py3.8/lib/python3.8/site-packages/sklearn/svm/_base.py:1206: ConvergenceWarning: Liblinear failed to converge, increase the number of iterations.\n",
      "  warnings.warn(\n",
      "/home/uber-driver/.cache/pypoetry/virtualenvs/algotrading-QW8QhsQC-py3.8/lib/python3.8/site-packages/sklearn/svm/_base.py:1206: ConvergenceWarning: Liblinear failed to converge, increase the number of iterations.\n",
      "  warnings.warn(\n",
      "/home/uber-driver/.cache/pypoetry/virtualenvs/algotrading-QW8QhsQC-py3.8/lib/python3.8/site-packages/sklearn/svm/_base.py:1206: ConvergenceWarning: Liblinear failed to converge, increase the number of iterations.\n",
      "  warnings.warn(\n",
      "/home/uber-driver/.cache/pypoetry/virtualenvs/algotrading-QW8QhsQC-py3.8/lib/python3.8/site-packages/sklearn/svm/_base.py:1206: ConvergenceWarning: Liblinear failed to converge, increase the number of iterations.\n",
      "  warnings.warn(\n",
      "/home/uber-driver/.cache/pypoetry/virtualenvs/algotrading-QW8QhsQC-py3.8/lib/python3.8/site-packages/sklearn/svm/_base.py:1206: ConvergenceWarning: Liblinear failed to converge, increase the number of iterations.\n",
      "  warnings.warn(\n",
      "/home/uber-driver/.cache/pypoetry/virtualenvs/algotrading-QW8QhsQC-py3.8/lib/python3.8/site-packages/sklearn/svm/_base.py:1206: ConvergenceWarning: Liblinear failed to converge, increase the number of iterations.\n",
      "  warnings.warn(\n",
      "/home/uber-driver/.cache/pypoetry/virtualenvs/algotrading-QW8QhsQC-py3.8/lib/python3.8/site-packages/sklearn/svm/_base.py:1206: ConvergenceWarning: Liblinear failed to converge, increase the number of iterations.\n",
      "  warnings.warn(\n",
      "/home/uber-driver/.cache/pypoetry/virtualenvs/algotrading-QW8QhsQC-py3.8/lib/python3.8/site-packages/sklearn/svm/_base.py:1206: ConvergenceWarning: Liblinear failed to converge, increase the number of iterations.\n",
      "  warnings.warn(\n",
      "/home/uber-driver/.cache/pypoetry/virtualenvs/algotrading-QW8QhsQC-py3.8/lib/python3.8/site-packages/sklearn/svm/_base.py:1206: ConvergenceWarning: Liblinear failed to converge, increase the number of iterations.\n",
      "  warnings.warn(\n",
      "/home/uber-driver/.cache/pypoetry/virtualenvs/algotrading-QW8QhsQC-py3.8/lib/python3.8/site-packages/sklearn/svm/_base.py:1206: ConvergenceWarning: Liblinear failed to converge, increase the number of iterations.\n",
      "  warnings.warn(\n",
      "/home/uber-driver/.cache/pypoetry/virtualenvs/algotrading-QW8QhsQC-py3.8/lib/python3.8/site-packages/sklearn/svm/_base.py:1206: ConvergenceWarning: Liblinear failed to converge, increase the number of iterations.\n",
      "  warnings.warn(\n",
      "/home/uber-driver/.cache/pypoetry/virtualenvs/algotrading-QW8QhsQC-py3.8/lib/python3.8/site-packages/sklearn/svm/_base.py:1206: ConvergenceWarning: Liblinear failed to converge, increase the number of iterations.\n",
      "  warnings.warn(\n",
      "/home/uber-driver/.cache/pypoetry/virtualenvs/algotrading-QW8QhsQC-py3.8/lib/python3.8/site-packages/sklearn/svm/_base.py:1206: ConvergenceWarning: Liblinear failed to converge, increase the number of iterations.\n",
      "  warnings.warn(\n",
      "/home/uber-driver/.cache/pypoetry/virtualenvs/algotrading-QW8QhsQC-py3.8/lib/python3.8/site-packages/sklearn/svm/_base.py:1206: ConvergenceWarning: Liblinear failed to converge, increase the number of iterations.\n",
      "  warnings.warn(\n",
      "/home/uber-driver/.cache/pypoetry/virtualenvs/algotrading-QW8QhsQC-py3.8/lib/python3.8/site-packages/sklearn/svm/_base.py:1206: ConvergenceWarning: Liblinear failed to converge, increase the number of iterations.\n",
      "  warnings.warn(\n",
      "/home/uber-driver/.cache/pypoetry/virtualenvs/algotrading-QW8QhsQC-py3.8/lib/python3.8/site-packages/sklearn/svm/_base.py:1206: ConvergenceWarning: Liblinear failed to converge, increase the number of iterations.\n",
      "  warnings.warn(\n",
      "/home/uber-driver/.cache/pypoetry/virtualenvs/algotrading-QW8QhsQC-py3.8/lib/python3.8/site-packages/sklearn/svm/_base.py:1206: ConvergenceWarning: Liblinear failed to converge, increase the number of iterations.\n",
      "  warnings.warn(\n",
      "/home/uber-driver/.cache/pypoetry/virtualenvs/algotrading-QW8QhsQC-py3.8/lib/python3.8/site-packages/sklearn/svm/_base.py:1206: ConvergenceWarning: Liblinear failed to converge, increase the number of iterations.\n",
      "  warnings.warn(\n",
      "/home/uber-driver/.cache/pypoetry/virtualenvs/algotrading-QW8QhsQC-py3.8/lib/python3.8/site-packages/sklearn/svm/_base.py:1206: ConvergenceWarning: Liblinear failed to converge, increase the number of iterations.\n",
      "  warnings.warn(\n",
      "/home/uber-driver/.cache/pypoetry/virtualenvs/algotrading-QW8QhsQC-py3.8/lib/python3.8/site-packages/sklearn/svm/_base.py:1206: ConvergenceWarning: Liblinear failed to converge, increase the number of iterations.\n",
      "  warnings.warn(\n",
      "/home/uber-driver/.cache/pypoetry/virtualenvs/algotrading-QW8QhsQC-py3.8/lib/python3.8/site-packages/sklearn/svm/_base.py:1206: ConvergenceWarning: Liblinear failed to converge, increase the number of iterations.\n",
      "  warnings.warn(\n",
      "/home/uber-driver/.cache/pypoetry/virtualenvs/algotrading-QW8QhsQC-py3.8/lib/python3.8/site-packages/sklearn/svm/_base.py:1206: ConvergenceWarning: Liblinear failed to converge, increase the number of iterations.\n",
      "  warnings.warn(\n",
      "/home/uber-driver/.cache/pypoetry/virtualenvs/algotrading-QW8QhsQC-py3.8/lib/python3.8/site-packages/sklearn/svm/_base.py:1206: ConvergenceWarning: Liblinear failed to converge, increase the number of iterations.\n",
      "  warnings.warn(\n",
      "/home/uber-driver/.cache/pypoetry/virtualenvs/algotrading-QW8QhsQC-py3.8/lib/python3.8/site-packages/sklearn/svm/_base.py:1206: ConvergenceWarning: Liblinear failed to converge, increase the number of iterations.\n",
      "  warnings.warn(\n",
      "/home/uber-driver/.cache/pypoetry/virtualenvs/algotrading-QW8QhsQC-py3.8/lib/python3.8/site-packages/sklearn/svm/_base.py:1206: ConvergenceWarning: Liblinear failed to converge, increase the number of iterations.\n",
      "  warnings.warn(\n",
      "/home/uber-driver/.cache/pypoetry/virtualenvs/algotrading-QW8QhsQC-py3.8/lib/python3.8/site-packages/sklearn/svm/_base.py:1206: ConvergenceWarning: Liblinear failed to converge, increase the number of iterations.\n",
      "  warnings.warn(\n",
      "/home/uber-driver/.cache/pypoetry/virtualenvs/algotrading-QW8QhsQC-py3.8/lib/python3.8/site-packages/sklearn/svm/_base.py:1206: ConvergenceWarning: Liblinear failed to converge, increase the number of iterations.\n",
      "  warnings.warn(\n",
      "/home/uber-driver/.cache/pypoetry/virtualenvs/algotrading-QW8QhsQC-py3.8/lib/python3.8/site-packages/sklearn/svm/_base.py:1206: ConvergenceWarning: Liblinear failed to converge, increase the number of iterations.\n",
      "  warnings.warn(\n",
      "/home/uber-driver/.cache/pypoetry/virtualenvs/algotrading-QW8QhsQC-py3.8/lib/python3.8/site-packages/sklearn/svm/_base.py:1206: ConvergenceWarning: Liblinear failed to converge, increase the number of iterations.\n",
      "  warnings.warn(\n",
      "/home/uber-driver/.cache/pypoetry/virtualenvs/algotrading-QW8QhsQC-py3.8/lib/python3.8/site-packages/sklearn/svm/_base.py:1206: ConvergenceWarning: Liblinear failed to converge, increase the number of iterations.\n",
      "  warnings.warn(\n",
      "/home/uber-driver/.cache/pypoetry/virtualenvs/algotrading-QW8QhsQC-py3.8/lib/python3.8/site-packages/sklearn/svm/_base.py:1206: ConvergenceWarning: Liblinear failed to converge, increase the number of iterations.\n",
      "  warnings.warn(\n",
      "/home/uber-driver/.cache/pypoetry/virtualenvs/algotrading-QW8QhsQC-py3.8/lib/python3.8/site-packages/sklearn/svm/_base.py:1206: ConvergenceWarning: Liblinear failed to converge, increase the number of iterations.\n",
      "  warnings.warn(\n",
      "/home/uber-driver/.cache/pypoetry/virtualenvs/algotrading-QW8QhsQC-py3.8/lib/python3.8/site-packages/sklearn/svm/_base.py:1206: ConvergenceWarning: Liblinear failed to converge, increase the number of iterations.\n",
      "  warnings.warn(\n",
      "/home/uber-driver/.cache/pypoetry/virtualenvs/algotrading-QW8QhsQC-py3.8/lib/python3.8/site-packages/sklearn/svm/_base.py:1206: ConvergenceWarning: Liblinear failed to converge, increase the number of iterations.\n",
      "  warnings.warn(\n"
     ]
    },
    {
     "data": {
      "text/plain": "{'C': 38200}"
     },
     "execution_count": 30,
     "metadata": {},
     "output_type": "execute_result"
    }
   ],
   "source": [
    "search = linear_svm_random_search(100, 50000, 100)\n",
    "search.best_params_"
   ],
   "metadata": {
    "collapsed": false,
    "pycharm": {
     "name": "#%%\n"
    }
   }
  },
  {
   "cell_type": "code",
   "execution_count": 31,
   "outputs": [
    {
     "name": "stdout",
     "output_type": "stream",
     "text": [
      "Scores:  [72622.06149849 66081.56987982 67150.57716848 70217.77785789\n",
      " 67283.07336727 73991.10336937 77151.11053227 69998.54895571\n",
      " 67522.12514634 70918.10143383]\n",
      "Mean:  70293.60492094714\n",
      "STD:  3331.1507725819392\n"
     ]
    }
   ],
   "source": [
    "display_scores(search.best_estimator_, housing_prepared, housing_labels)"
   ],
   "metadata": {
    "collapsed": false,
    "pycharm": {
     "name": "#%%\n"
    }
   }
  },
  {
   "cell_type": "markdown",
   "source": [
    "This seems to get closer to a solution with a smaller number of iterations. Random Search worked well here."
   ],
   "metadata": {
    "collapsed": false,
    "pycharm": {
     "name": "#%% md\n"
    }
   }
  },
  {
   "cell_type": "markdown",
   "source": [
    "# Exercise 3\n",
    "Try adding a transformer in the preparation pipeline to select only the most important attributes"
   ],
   "metadata": {
    "collapsed": false,
    "pycharm": {
     "name": "#%% md\n"
    }
   }
  },
  {
   "cell_type": "code",
   "execution_count": null,
   "outputs": [],
   "source": [
    "from sklearn.base import BaseEstimator, TransformerMixin\n",
    "\n",
    "class BestAttributesSelector(BaseEstimator, TransformerMixin):\n",
    "    def __init__(self, num_to_keep=3):\n",
    "        self.num_to_keep = num_to_keep\n",
    "\n",
    "    def fit(self, X, y=None):\n",
    "        return self\n",
    "\n",
    "    def transform(self, X):\n",
    "        "
   ],
   "metadata": {
    "collapsed": false,
    "pycharm": {
     "name": "#%%\n"
    }
   }
  }
 ],
 "metadata": {
  "kernelspec": {
   "display_name": "Python 3",
   "language": "python",
   "name": "python3"
  },
  "language_info": {
   "codemirror_mode": {
    "name": "ipython",
    "version": 2
   },
   "file_extension": ".py",
   "mimetype": "text/x-python",
   "name": "python",
   "nbconvert_exporter": "python",
   "pygments_lexer": "ipython2",
   "version": "2.7.6"
  }
 },
 "nbformat": 4,
 "nbformat_minor": 0
}